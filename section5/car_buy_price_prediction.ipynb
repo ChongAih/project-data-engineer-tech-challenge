{
 "cells": [
  {
   "cell_type": "code",
   "execution_count": 1,
   "metadata": {},
   "outputs": [],
   "source": [
    "import os\n",
    "import numpy as np\n",
    "import pandas as pd\n",
    "import matplotlib.pyplot as plt\n",
    "import seaborn as sns\n",
    "import time\n",
    "\n",
    "from sklearn.preprocessing import LabelEncoder\n",
    "from sklearn.preprocessing import OneHotEncoder\n",
    "\n",
    "from sklearn.model_selection import train_test_split\n",
    "# from sklearn.model_selection import train_test_split, KFold\n",
    "# from sklearn.base import TransformerMixin\n",
    "# from sklearn.metrics import precision_score, recall_score, f1_score, precision_recall_curve, confusion_matrix, accuracy_score\n",
    "# from sklearn.ensemble import GradientBoostingClassifier\n",
    "# from xgboost import XGBClassifier\n",
    "sns.set()"
   ]
  },
  {
   "cell_type": "markdown",
   "metadata": {},
   "source": [
    "## Data Preview & Visualization"
   ]
  },
  {
   "cell_type": "markdown",
   "metadata": {},
   "source": [
    "From the data preview, all the features and labels are found to be categorical\n",
    "\n",
    "From the heatmap, it is found that the features 'maintenance', 'number_of_doors', \n",
    "'lug_boot_size' and 'safety' has almost no correlation with the label 'buying_price'"
   ]
  },
  {
   "cell_type": "code",
   "execution_count": 2,
   "metadata": {},
   "outputs": [
    {
     "data": {
      "text/html": [
       "<div>\n",
       "<style scoped>\n",
       "    .dataframe tbody tr th:only-of-type {\n",
       "        vertical-align: middle;\n",
       "    }\n",
       "\n",
       "    .dataframe tbody tr th {\n",
       "        vertical-align: top;\n",
       "    }\n",
       "\n",
       "    .dataframe thead th {\n",
       "        text-align: right;\n",
       "    }\n",
       "</style>\n",
       "<table border=\"1\" class=\"dataframe\">\n",
       "  <thead>\n",
       "    <tr style=\"text-align: right;\">\n",
       "      <th></th>\n",
       "      <th>buying_price</th>\n",
       "      <th>maintenance</th>\n",
       "      <th>number_of_doors</th>\n",
       "      <th>number_of_person</th>\n",
       "      <th>lug_boot_size</th>\n",
       "      <th>safety</th>\n",
       "      <th>class_value</th>\n",
       "    </tr>\n",
       "  </thead>\n",
       "  <tbody>\n",
       "    <tr>\n",
       "      <th>0</th>\n",
       "      <td>vhigh</td>\n",
       "      <td>vhigh</td>\n",
       "      <td>2</td>\n",
       "      <td>2</td>\n",
       "      <td>small</td>\n",
       "      <td>low</td>\n",
       "      <td>unacc</td>\n",
       "    </tr>\n",
       "    <tr>\n",
       "      <th>1</th>\n",
       "      <td>vhigh</td>\n",
       "      <td>vhigh</td>\n",
       "      <td>2</td>\n",
       "      <td>2</td>\n",
       "      <td>small</td>\n",
       "      <td>med</td>\n",
       "      <td>unacc</td>\n",
       "    </tr>\n",
       "    <tr>\n",
       "      <th>2</th>\n",
       "      <td>vhigh</td>\n",
       "      <td>vhigh</td>\n",
       "      <td>2</td>\n",
       "      <td>2</td>\n",
       "      <td>small</td>\n",
       "      <td>high</td>\n",
       "      <td>unacc</td>\n",
       "    </tr>\n",
       "    <tr>\n",
       "      <th>3</th>\n",
       "      <td>vhigh</td>\n",
       "      <td>vhigh</td>\n",
       "      <td>2</td>\n",
       "      <td>2</td>\n",
       "      <td>med</td>\n",
       "      <td>low</td>\n",
       "      <td>unacc</td>\n",
       "    </tr>\n",
       "    <tr>\n",
       "      <th>4</th>\n",
       "      <td>vhigh</td>\n",
       "      <td>vhigh</td>\n",
       "      <td>2</td>\n",
       "      <td>2</td>\n",
       "      <td>med</td>\n",
       "      <td>med</td>\n",
       "      <td>unacc</td>\n",
       "    </tr>\n",
       "    <tr>\n",
       "      <th>5</th>\n",
       "      <td>vhigh</td>\n",
       "      <td>vhigh</td>\n",
       "      <td>2</td>\n",
       "      <td>2</td>\n",
       "      <td>med</td>\n",
       "      <td>high</td>\n",
       "      <td>unacc</td>\n",
       "    </tr>\n",
       "    <tr>\n",
       "      <th>6</th>\n",
       "      <td>vhigh</td>\n",
       "      <td>vhigh</td>\n",
       "      <td>2</td>\n",
       "      <td>2</td>\n",
       "      <td>big</td>\n",
       "      <td>low</td>\n",
       "      <td>unacc</td>\n",
       "    </tr>\n",
       "    <tr>\n",
       "      <th>7</th>\n",
       "      <td>vhigh</td>\n",
       "      <td>vhigh</td>\n",
       "      <td>2</td>\n",
       "      <td>2</td>\n",
       "      <td>big</td>\n",
       "      <td>med</td>\n",
       "      <td>unacc</td>\n",
       "    </tr>\n",
       "    <tr>\n",
       "      <th>8</th>\n",
       "      <td>vhigh</td>\n",
       "      <td>vhigh</td>\n",
       "      <td>2</td>\n",
       "      <td>2</td>\n",
       "      <td>big</td>\n",
       "      <td>high</td>\n",
       "      <td>unacc</td>\n",
       "    </tr>\n",
       "    <tr>\n",
       "      <th>9</th>\n",
       "      <td>vhigh</td>\n",
       "      <td>vhigh</td>\n",
       "      <td>2</td>\n",
       "      <td>4</td>\n",
       "      <td>small</td>\n",
       "      <td>low</td>\n",
       "      <td>unacc</td>\n",
       "    </tr>\n",
       "  </tbody>\n",
       "</table>\n",
       "</div>"
      ],
      "text/plain": [
       "  buying_price maintenance number_of_doors number_of_person lug_boot_size  \\\n",
       "0        vhigh       vhigh               2                2         small   \n",
       "1        vhigh       vhigh               2                2         small   \n",
       "2        vhigh       vhigh               2                2         small   \n",
       "3        vhigh       vhigh               2                2           med   \n",
       "4        vhigh       vhigh               2                2           med   \n",
       "5        vhigh       vhigh               2                2           med   \n",
       "6        vhigh       vhigh               2                2           big   \n",
       "7        vhigh       vhigh               2                2           big   \n",
       "8        vhigh       vhigh               2                2           big   \n",
       "9        vhigh       vhigh               2                4         small   \n",
       "\n",
       "  safety class_value  \n",
       "0    low       unacc  \n",
       "1    med       unacc  \n",
       "2   high       unacc  \n",
       "3    low       unacc  \n",
       "4    med       unacc  \n",
       "5   high       unacc  \n",
       "6    low       unacc  \n",
       "7    med       unacc  \n",
       "8   high       unacc  \n",
       "9    low       unacc  "
      ]
     },
     "execution_count": 2,
     "metadata": {},
     "output_type": "execute_result"
    }
   ],
   "source": [
    "df = pd.read_csv(\n",
    "        os.path.join(os.getcwd(), \"..\", \"resource\", \"ml\", \"car.data\"),\n",
    "        names=[\"buying_price\", \"maintenance\", \"number_of_doors\", \"number_of_person\", \n",
    "            \"lug_boot_size\", \"safety\", \"class_value\"],\n",
    "        header=None\n",
    "    )\n",
    "df.head(10)"
   ]
  },
  {
   "cell_type": "code",
   "execution_count": 3,
   "metadata": {},
   "outputs": [],
   "source": [
    "label = \"buying_price\"\n",
    "features = [\"maintenance\", \"number_of_doors\", \n",
    "            \"lug_boot_size\", \"safety\", \"class_value\"]\n",
    "selected_features = [\"class_value\"]"
   ]
  },
  {
   "cell_type": "code",
   "execution_count": 4,
   "metadata": {},
   "outputs": [
    {
     "name": "stdout",
     "output_type": "stream",
     "text": [
      "Unique values of buying_price: ['vhigh', 'high', 'med', 'low']\n",
      "Unique values of maintenance: ['vhigh', 'high', 'med', 'low']\n",
      "Unique values of number_of_doors: ['2', '3', '4', '5more']\n",
      "Unique values of lug_boot_size: ['small', 'med', 'big']\n",
      "Unique values of safety: ['low', 'med', 'high']\n",
      "Unique values of class_value: ['unacc', 'acc', 'vgood', 'good']\n"
     ]
    }
   ],
   "source": [
    "# Examine the dataset\n",
    "# All the features and label are categorical \n",
    "for column in [label]+features:\n",
    "    print(f\"Unique values of {column}: {df[column].unique().tolist()}\")"
   ]
  },
  {
   "cell_type": "code",
   "execution_count": 5,
   "metadata": {},
   "outputs": [
    {
     "data": {
      "image/png": "[encoded data removed]",
      "text/plain": [
       "<Figure size 1296x864 with 11 Axes>"
      ]
     },
     "metadata": {},
     "output_type": "display_data"
    }
   ],
   "source": [
    "# From the heatmap, it can be told that the features 'maintenance', 'number_of_doors', \n",
    "# 'lug_boot_size' and 'safety' has almost no correlation with the label 'buying_price'\n",
    "\n",
    "num_ax_row = 2\n",
    "num_ax_col = len(features)//num_ax_row + 1\n",
    "fig, axs = plt.subplots(num_ax_row, num_ax_col, figsize=(18, 12))\n",
    "\n",
    "for i, feature in enumerate(features):\n",
    "    groupby_columns = [label, feature]\n",
    "    groupby_count = df[groupby_columns].groupby(groupby_columns).size().unstack().fillna(0)\n",
    "    current_ax = axs[i//num_ax_col, i%num_ax_col]\n",
    "    current_ax.set_title(f\"Count Group by {groupby_columns}\")\n",
    "    sns.heatmap(groupby_count, ax=current_ax)\n",
    "\n",
    "plt.show()"
   ]
  },
  {
   "cell_type": "markdown",
   "metadata": {},
   "source": [
    "## Data Pre-processing"
   ]
  },
  {
   "cell_type": "markdown",
   "metadata": {},
   "source": [
    "Data pre-processing is performed by first converting the categorical columns to respective numerical values and scaler is omitted due to categorical characteristic.\n",
    "\n",
    "The data set is also split into training and validation set to prevent overfitting and validation purpose.\n",
    "\n",
    "Two sets of data set are created based on different features and will be examined in the following section"
   ]
  },
  {
   "cell_type": "code",
   "execution_count": 6,
   "metadata": {},
   "outputs": [],
   "source": [
    "# Convert categorical variable to numeric value\n",
    "# No scaler is needed due to categorical characteristic\n",
    "\n",
    "def preprocessing(df, features, label=None, encoders=dict(), test_size=0.3):\n",
    "    if label:\n",
    "        features_label_list = features + [label]\n",
    "        processed_df = df[features_label_list]\n",
    "        encoders = dict()\n",
    "        for column in features_label_list:\n",
    "            encoder = LabelEncoder()\n",
    "            processed_df[column] = encoder.fit_transform(processed_df[column])\n",
    "            encoders[column] = encoder\n",
    "        x = processed_df[features]\n",
    "        y = processed_df[label]\n",
    "        x_train, x_test, y_train, y_test = train_test_split(x, y, test_size=test_size ,random_state=42)\n",
    "        return x_train, x_test, y_train, y_test, encoders\n",
    "    else:\n",
    "        processed_df = df[features]\n",
    "        for column in features:\n",
    "            encoder = encoders[column]\n",
    "            processed_df[column] = encoder.fit_transform(processed_df[column])\n",
    "        x_to_be_pred = processed_df[features]\n",
    "        return x_to_be_pred"
   ]
  },
  {
   "cell_type": "code",
   "execution_count": 7,
   "metadata": {},
   "outputs": [
    {
     "name": "stderr",
     "output_type": "stream",
     "text": [
      "/Users/chongaih.hau/opt/anaconda3/lib/python3.8/site-packages/pandas/core/frame.py:3607: SettingWithCopyWarning: \n",
      "A value is trying to be set on a copy of a slice from a DataFrame.\n",
      "Try using .loc[row_indexer,col_indexer] = value instead\n",
      "\n",
      "See the caveats in the documentation: https://pandas.pydata.org/pandas-docs/stable/user_guide/indexing.html#returning-a-view-versus-a-copy\n",
      "  self._set_item(key, value)\n"
     ]
    }
   ],
   "source": [
    "x_train, x_test, y_train, y_test, encoders = preprocessing(df, features, label)\n",
    "x_train_selected, x_test_selected, \\\n",
    "    y_train_selected, y_test_selected, encoders_selected = preprocessing(df, selected_features, label)"
   ]
  },
  {
   "cell_type": "code",
   "execution_count": 8,
   "metadata": {},
   "outputs": [
    {
     "data": {
      "text/html": [
       "<div>\n",
       "<style scoped>\n",
       "    .dataframe tbody tr th:only-of-type {\n",
       "        vertical-align: middle;\n",
       "    }\n",
       "\n",
       "    .dataframe tbody tr th {\n",
       "        vertical-align: top;\n",
       "    }\n",
       "\n",
       "    .dataframe thead th {\n",
       "        text-align: right;\n",
       "    }\n",
       "</style>\n",
       "<table border=\"1\" class=\"dataframe\">\n",
       "  <thead>\n",
       "    <tr style=\"text-align: right;\">\n",
       "      <th></th>\n",
       "      <th>maintenance</th>\n",
       "      <th>number_of_doors</th>\n",
       "      <th>lug_boot_size</th>\n",
       "      <th>safety</th>\n",
       "      <th>class_value</th>\n",
       "    </tr>\n",
       "  </thead>\n",
       "  <tbody>\n",
       "    <tr>\n",
       "      <th>1178</th>\n",
       "      <td>2</td>\n",
       "      <td>3</td>\n",
       "      <td>0</td>\n",
       "      <td>0</td>\n",
       "      <td>3</td>\n",
       "    </tr>\n",
       "    <tr>\n",
       "      <th>585</th>\n",
       "      <td>0</td>\n",
       "      <td>1</td>\n",
       "      <td>2</td>\n",
       "      <td>1</td>\n",
       "      <td>2</td>\n",
       "    </tr>\n",
       "    <tr>\n",
       "      <th>1552</th>\n",
       "      <td>2</td>\n",
       "      <td>1</td>\n",
       "      <td>1</td>\n",
       "      <td>2</td>\n",
       "      <td>0</td>\n",
       "    </tr>\n",
       "    <tr>\n",
       "      <th>1169</th>\n",
       "      <td>2</td>\n",
       "      <td>3</td>\n",
       "      <td>0</td>\n",
       "      <td>0</td>\n",
       "      <td>2</td>\n",
       "    </tr>\n",
       "    <tr>\n",
       "      <th>1033</th>\n",
       "      <td>0</td>\n",
       "      <td>2</td>\n",
       "      <td>0</td>\n",
       "      <td>2</td>\n",
       "      <td>2</td>\n",
       "    </tr>\n",
       "  </tbody>\n",
       "</table>\n",
       "</div>"
      ],
      "text/plain": [
       "      maintenance  number_of_doors  lug_boot_size  safety  class_value\n",
       "1178            2                3              0       0            3\n",
       "585             0                1              2       1            2\n",
       "1552            2                1              1       2            0\n",
       "1169            2                3              0       0            2\n",
       "1033            0                2              0       2            2"
      ]
     },
     "execution_count": 8,
     "metadata": {},
     "output_type": "execute_result"
    }
   ],
   "source": [
    "x_train.head()\n"
   ]
  },
  {
   "cell_type": "code",
   "execution_count": 9,
   "metadata": {},
   "outputs": [
    {
     "data": {
      "text/html": [
       "<div>\n",
       "<style scoped>\n",
       "    .dataframe tbody tr th:only-of-type {\n",
       "        vertical-align: middle;\n",
       "    }\n",
       "\n",
       "    .dataframe tbody tr th {\n",
       "        vertical-align: top;\n",
       "    }\n",
       "\n",
       "    .dataframe thead th {\n",
       "        text-align: right;\n",
       "    }\n",
       "</style>\n",
       "<table border=\"1\" class=\"dataframe\">\n",
       "  <thead>\n",
       "    <tr style=\"text-align: right;\">\n",
       "      <th></th>\n",
       "      <th>class_value</th>\n",
       "    </tr>\n",
       "  </thead>\n",
       "  <tbody>\n",
       "    <tr>\n",
       "      <th>1178</th>\n",
       "      <td>3</td>\n",
       "    </tr>\n",
       "    <tr>\n",
       "      <th>585</th>\n",
       "      <td>2</td>\n",
       "    </tr>\n",
       "    <tr>\n",
       "      <th>1552</th>\n",
       "      <td>0</td>\n",
       "    </tr>\n",
       "    <tr>\n",
       "      <th>1169</th>\n",
       "      <td>2</td>\n",
       "    </tr>\n",
       "    <tr>\n",
       "      <th>1033</th>\n",
       "      <td>2</td>\n",
       "    </tr>\n",
       "  </tbody>\n",
       "</table>\n",
       "</div>"
      ],
      "text/plain": [
       "      class_value\n",
       "1178            3\n",
       "585             2\n",
       "1552            0\n",
       "1169            2\n",
       "1033            2"
      ]
     },
     "execution_count": 9,
     "metadata": {},
     "output_type": "execute_result"
    }
   ],
   "source": [
    "x_train_selected.head()"
   ]
  },
  {
   "cell_type": "code",
   "execution_count": 10,
   "metadata": {},
   "outputs": [
    {
     "data": {
      "text/plain": [
       "1178    2\n",
       "585     0\n",
       "1552    1\n",
       "1169    2\n",
       "1033    2\n",
       "Name: buying_price, dtype: int64"
      ]
     },
     "execution_count": 10,
     "metadata": {},
     "output_type": "execute_result"
    }
   ],
   "source": [
    "y_train.head()"
   ]
  },
  {
   "cell_type": "code",
   "execution_count": 11,
   "metadata": {},
   "outputs": [
    {
     "data": {
      "text/plain": [
       "1178    2\n",
       "585     0\n",
       "1552    1\n",
       "1169    2\n",
       "1033    2\n",
       "Name: buying_price, dtype: int64"
      ]
     },
     "execution_count": 11,
     "metadata": {},
     "output_type": "execute_result"
    }
   ],
   "source": [
    "y_train_selected.head()"
   ]
  },
  {
   "cell_type": "markdown",
   "metadata": {},
   "source": [
    "## Training and Evaluation of Machine Learning Model Performance"
   ]
  },
  {
   "cell_type": "markdown",
   "metadata": {},
   "source": [
    "Due to simplicity of the data set, the deep learning model is not considered in the evaluation. The following two models are selected:\n",
    "\n",
    "* Multinomial logistic regression - Modified version of logistic regression that predicts a multinomial probability (i.e. more than two classes) for each input example.\n",
    "* Gradient boosting - An ensembled boosting method built on the basis of random forest, has restricted size tree (high bias low variance) using the entire dataset and it is sequentially growing. It starts with a leaf node with average value of output for numerical data or log(adds) for categorical data. Residual is found by substrating the initial value with actual value. The subsequent tree is built to find the residual. The output will be the initial value + learning rate*value run down the tree."
   ]
  },
  {
   "cell_type": "markdown",
   "metadata": {},
   "source": [
    "From the experiment, the accuracy scores are as follows:\n",
    "\n",
    "* multinomial logistic regression with all features - 22.54%\n",
    "* multinomial logistic regression with selected features - 28.52%\n",
    "* Gradient boosting regression with all features - 25.43%\n",
    "* Gradient boosting regression with selected features - 33.14%\n",
    "\n",
    "The models with selected features perform better than those with all. Thus it is important to select appropriate features before moving on to the training of the model. Gradient boosting performs better than logistic regression due to fact that it will always try to create a subtree such that the residual is minimized.\n",
    "\n",
    "However, there isn't any better features that are strongly correlated to the buying price, thus there is still lot of rooms of improvement for accuracy."
   ]
  },
  {
   "cell_type": "code",
   "execution_count": 12,
   "metadata": {},
   "outputs": [],
   "source": [
    "from sklearn.metrics import confusion_matrix, accuracy_score\n",
    "\n",
    "def plot_confusion_metrics(title, y_true, y_pred):\n",
    "    plt.title(title)\n",
    "    sns.heatmap(confusion_matrix(y_true, y_pred), annot=True)\n",
    "    plt.show()\n",
    "\n",
    "def compute_score(y_true, y_pred):\n",
    "    return round(accuracy_score(y_true, y_pred)*100, 2)"
   ]
  },
  {
   "cell_type": "markdown",
   "metadata": {},
   "source": [
    "### Multinomial Logistic Regression"
   ]
  },
  {
   "cell_type": "code",
   "execution_count": 13,
   "metadata": {},
   "outputs": [],
   "source": [
    "from sklearn.linear_model import LogisticRegression"
   ]
  },
  {
   "cell_type": "code",
   "execution_count": 14,
   "metadata": {},
   "outputs": [],
   "source": [
    "def train_test_lr(x_train, y_train, x_test, y_test, title):\n",
    "    lr = LogisticRegression(multi_class='multinomial', solver='lbfgs')\n",
    "    lr.fit(x_train, y_train)\n",
    "    y_pred = lr.predict(x_test)\n",
    "\n",
    "    plot_confusion_metrics(title, y_test, y_pred)\n",
    "    print(f\"Multinomial Logistic Regression accuracy: {compute_score(y_test, y_pred)}%\")\n",
    "    \n",
    "    return lr"
   ]
  },
  {
   "cell_type": "code",
   "execution_count": 15,
   "metadata": {},
   "outputs": [
    {
     "data": {
      "image/png": "[encoded data removed]",
      "text/plain": [
       "<Figure size 432x288 with 2 Axes>"
      ]
     },
     "metadata": {},
     "output_type": "display_data"
    },
    {
     "name": "stdout",
     "output_type": "stream",
     "text": [
      "Multinomial Logistic Regression accuracy: 22.54%\n"
     ]
    },
    {
     "data": {
      "image/png": "[encoded data removed]",
      "text/plain": [
       "<Figure size 432x288 with 2 Axes>"
      ]
     },
     "metadata": {},
     "output_type": "display_data"
    },
    {
     "name": "stdout",
     "output_type": "stream",
     "text": [
      "Multinomial Logistic Regression accuracy: 28.52%\n"
     ]
    }
   ],
   "source": [
    "lr = train_test_lr(x_train, y_train, x_test, y_test, \n",
    "    \"Logistic Regression Confusion Matrix with All Features\")\n",
    "lr_selected = train_test_lr(x_train_selected, \n",
    "    y_train_selected, x_test_selected, y_test_selected,\n",
    "    \"Logistic Regression Confusion Matrix with Selected Features\")"
   ]
  },
  {
   "cell_type": "markdown",
   "metadata": {},
   "source": [
    "### Gradient Boosting"
   ]
  },
  {
   "cell_type": "code",
   "execution_count": 16,
   "metadata": {},
   "outputs": [],
   "source": [
    "from sklearn.ensemble import GradientBoostingClassifier"
   ]
  },
  {
   "cell_type": "code",
   "execution_count": 17,
   "metadata": {},
   "outputs": [],
   "source": [
    "def train_test_gb(x_train, y_train, x_test, y_test, title):\n",
    "    classifier = GradientBoostingClassifier(n_estimators=100, learning_rate=0.01, max_depth=5)\n",
    "    classifier.fit(x_train, y_train)\n",
    "    y_pred = classifier.predict(x_test)\n",
    "\n",
    "    plot_confusion_metrics(title, y_test, y_pred)\n",
    "    print(f\"Gradient Boosting accuracy: {compute_score(y_test, y_pred)}%\")\n",
    "    \n",
    "    return classifier"
   ]
  },
  {
   "cell_type": "code",
   "execution_count": 18,
   "metadata": {},
   "outputs": [
    {
     "data": {
      "image/png": "[encoded data removed]",
      "text/plain": [
       "<Figure size 432x288 with 2 Axes>"
      ]
     },
     "metadata": {},
     "output_type": "display_data"
    },
    {
     "name": "stdout",
     "output_type": "stream",
     "text": [
      "Gradient Boosting accuracy: 25.43%\n"
     ]
    },
    {
     "data": {
      "image/png": "[encoded data removed]",
      "text/plain": [
       "<Figure size 432x288 with 2 Axes>"
      ]
     },
     "metadata": {},
     "output_type": "display_data"
    },
    {
     "name": "stdout",
     "output_type": "stream",
     "text": [
      "Gradient Boosting accuracy: 33.14%\n"
     ]
    }
   ],
   "source": [
    "gb = train_test_gb(x_train, y_train, x_test, y_test, \n",
    "    \"Gradient Boosting Confusion Matrix with All Features\")\n",
    "gb_selected = train_test_gb(x_train_selected, \n",
    "    y_train_selected, x_test_selected, y_test_selected,\n",
    "    \"Gradient Boosting Confusion Matrix with Selected Features\")"
   ]
  },
  {
   "cell_type": "markdown",
   "metadata": {},
   "source": [
    "## Prediction"
   ]
  },
  {
   "cell_type": "code",
   "execution_count": 19,
   "metadata": {},
   "outputs": [],
   "source": [
    "def predict(model, x_to_be_pred, encoders, label):\n",
    "    label_encoder = encoders_selected[label]\n",
    "    value = label_encoder.classes_\n",
    "    key = label_encoder.transform(value)\n",
    "    label_mapping = dict(zip(key, value))\n",
    "    output = []\n",
    "    for y_pred in model.predict(x_to_be_pred):\n",
    "        output.append(label_mapping.get(y_pred))\n",
    "    return output"
   ]
  },
  {
   "cell_type": "code",
   "execution_count": 20,
   "metadata": {},
   "outputs": [
    {
     "data": {
      "text/html": [
       "<div>\n",
       "<style scoped>\n",
       "    .dataframe tbody tr th:only-of-type {\n",
       "        vertical-align: middle;\n",
       "    }\n",
       "\n",
       "    .dataframe tbody tr th {\n",
       "        vertical-align: top;\n",
       "    }\n",
       "\n",
       "    .dataframe thead th {\n",
       "        text-align: right;\n",
       "    }\n",
       "</style>\n",
       "<table border=\"1\" class=\"dataframe\">\n",
       "  <thead>\n",
       "    <tr style=\"text-align: right;\">\n",
       "      <th></th>\n",
       "      <th>maintenance</th>\n",
       "      <th>number_of_door</th>\n",
       "      <th>lug_boot_size</th>\n",
       "      <th>safety</th>\n",
       "      <th>class_value</th>\n",
       "    </tr>\n",
       "  </thead>\n",
       "  <tbody>\n",
       "    <tr>\n",
       "      <th>0</th>\n",
       "      <td>high</td>\n",
       "      <td>4</td>\n",
       "      <td>big</td>\n",
       "      <td>high</td>\n",
       "      <td>good</td>\n",
       "    </tr>\n",
       "  </tbody>\n",
       "</table>\n",
       "</div>"
      ],
      "text/plain": [
       "  maintenance  number_of_door lug_boot_size safety class_value\n",
       "0        high               4           big   high        good"
      ]
     },
     "execution_count": 20,
     "metadata": {},
     "output_type": "execute_result"
    }
   ],
   "source": [
    "df_test = pd.DataFrame({\"maintenance\": [\"high\"], \"number_of_door\": [4], \n",
    "    \"lug_boot_size\": [\"big\"], \"safety\": [\"high\"], \"class_value\": [\"good\"]})\n",
    "\n",
    "df_test.head()"
   ]
  },
  {
   "cell_type": "code",
   "execution_count": 21,
   "metadata": {},
   "outputs": [
    {
     "name": "stderr",
     "output_type": "stream",
     "text": [
      "/Users/chongaih.hau/opt/anaconda3/lib/python3.8/site-packages/pandas/core/frame.py:3607: SettingWithCopyWarning: \n",
      "A value is trying to be set on a copy of a slice from a DataFrame.\n",
      "Try using .loc[row_indexer,col_indexer] = value instead\n",
      "\n",
      "See the caveats in the documentation: https://pandas.pydata.org/pandas-docs/stable/user_guide/indexing.html#returning-a-view-versus-a-copy\n",
      "  self._set_item(key, value)\n"
     ]
    }
   ],
   "source": [
    "x_to_be_pred = preprocessing(df=df_test, features=selected_features, encoders=encoders_selected)"
   ]
  },
  {
   "cell_type": "code",
   "execution_count": 22,
   "metadata": {},
   "outputs": [
    {
     "data": {
      "text/plain": [
       "['med']"
      ]
     },
     "execution_count": 22,
     "metadata": {},
     "output_type": "execute_result"
    }
   ],
   "source": [
    "predict(gb_selected, x_to_be_pred, encoders_selected, label)"
   ]
  }
 ],
 "metadata": {
  "kernelspec": {
   "display_name": "Python 3.8.5 ('base')",
   "language": "python",
   "name": "python3"
  },
  "language_info": {
   "codemirror_mode": {
    "name": "ipython",
    "version": 3
   },
   "file_extension": ".py",
   "mimetype": "text/x-python",
   "name": "python",
   "nbconvert_exporter": "python",
   "pygments_lexer": "ipython3",
   "version": "3.8.5"
  },
  "vscode": {
   "interpreter": {
    "hash": "b34029b22ef11c7ed7a7cb3d4bf7c02e7e93c86728f78013f312815c17bc908d"
   }
  }
 },
 "nbformat": 4,
 "nbformat_minor": 4
}
